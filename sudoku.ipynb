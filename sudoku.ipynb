{
 "cells": [
  {
   "cell_type": "markdown",
   "metadata": {
    "deletable": true,
    "editable": true
   },
   "source": [
    "# Build sudoku game board and elements"
   ]
  },
  {
   "cell_type": "code",
   "execution_count": 1,
   "metadata": {
    "collapsed": false,
    "deletable": true,
    "editable": true
   },
   "outputs": [],
   "source": [
    "\n",
    "# cross function\n",
    "def cross(A, B):\n",
    "    \"\"\"Cross product of elements in A and elements in B.\n",
    "    Args:\n",
    "        A(str): string of rows e.g. 'ABCDEFGHI'\n",
    "        B(str): string of columns e.g. '123456789'\n",
    "        \n",
    "    Returns:\n",
    "        list of cross products between A and B \n",
    "        e.g. ['A1', 'A2', ... 'I9']\n",
    "    \"\"\"\n",
    "    return [a+b for a in A for b in B]\n",
    "\n",
    "# game board elements: rows and cols and all boxes\n",
    "rows = 'ABCDEFGHI'\n",
    "cols = '123456789'\n",
    "boxes = cross(rows, cols)\n",
    "\n",
    "# units: completed rows, cols, squares, diagonals\n",
    "row_units = [cross(r, cols) for r in rows]\n",
    "column_units = [cross(rows, c) for c in cols]\n",
    "row_groups = [rows[i:i+3] for i in range(0,7,3)]\n",
    "column_groups = [cols[i:i+3] for i in range(0,7,3)]\n",
    "square_units = [cross(rg, cg) for rg in row_groups for cg in column_groups]\n",
    "diag_units = [[r+c for r, c in zip(rows, cols)], [r+c for r, c in zip(rows, reversed(cols))]]\n",
    "\n",
    "# unit list, units of a box, peers of a box\n",
    "#unitlist = row_units + column_units + square_units + diag_units\n",
    "unitlist = row_units + column_units + square_units + diag_units\n",
    "units = dict((s, [u for u in unitlist if s in u]) for s in boxes)\n",
    "peers = dict((s, set(sum(units[s],[]))-set([s])) for s in boxes)\n",
    "\n",
    "# misc\n",
    "double_digits = [a+b for a in '123456789' for b in '123456789' if a<b]"
   ]
  },
  {
   "cell_type": "code",
   "execution_count": 11,
   "metadata": {
    "collapsed": false
   },
   "outputs": [
    {
     "data": {
      "text/plain": [
       "{'A1',\n",
       " 'A8',\n",
       " 'B2',\n",
       " 'B8',\n",
       " 'C3',\n",
       " 'C8',\n",
       " 'D4',\n",
       " 'D8',\n",
       " 'E5',\n",
       " 'E8',\n",
       " 'F6',\n",
       " 'F8',\n",
       " 'G7',\n",
       " 'G8',\n",
       " 'G9',\n",
       " 'H1',\n",
       " 'H2',\n",
       " 'H3',\n",
       " 'H4',\n",
       " 'H5',\n",
       " 'H6',\n",
       " 'H7',\n",
       " 'H9',\n",
       " 'I7',\n",
       " 'I8',\n",
       " 'I9'}"
      ]
     },
     "execution_count": 11,
     "metadata": {},
     "output_type": "execute_result"
    }
   ],
   "source": [
    "peers['H8']"
   ]
  },
  {
   "cell_type": "markdown",
   "metadata": {
    "deletable": true,
    "editable": true
   },
   "source": [
    "# Display game"
   ]
  },
  {
   "cell_type": "code",
   "execution_count": 2,
   "metadata": {
    "collapsed": false,
    "deletable": true,
    "editable": true
   },
   "outputs": [
    {
     "name": "stdout",
     "output_type": "stream",
     "text": [
      ". . 3 |. 2 . |6 . . \n",
      "9 . . |3 . 5 |. . 1 \n",
      ". . 1 |8 . 6 |4 . . \n",
      "------+------+------\n",
      ". . 8 |1 . 2 |9 . . \n",
      "7 . . |. . . |. . 8 \n",
      ". . 6 |7 . 8 |2 . . \n",
      "------+------+------\n",
      ". . 2 |6 . 9 |5 . . \n",
      "8 . . |2 . 3 |. . 9 \n",
      ". . 5 |. 1 . |3 . . \n"
     ]
    }
   ],
   "source": [
    "# make and display sudoku dict\n",
    "\n",
    "def grid_values(grid):\n",
    "    return {key:'123456789' if grid[index]=='.' else grid[index] \n",
    "            for index, key in enumerate(boxes)}\n",
    "\n",
    "def grid_values_for_dot_display(grid):\n",
    "    \"\"\"Convert grid string into {<box>: <value>} dict with '.' value for empties.\n",
    "\n",
    "    Args:\n",
    "        grid: Sudoku grid in string form, 81 characters long\n",
    "    Returns:\n",
    "        Sudoku grid in dictionary form:\n",
    "        - keys: Box labels, e.g. 'A1'\n",
    "        - values: Value in corresponding box, e.g. '8', or '.' if it is empty.\n",
    "    \"\"\"\n",
    "    return {key:grid[index] for index, key in enumerate(boxes)}\n",
    "\n",
    "def display(values):\n",
    "    \"\"\"\n",
    "    Display the values as a 2-D grid.\n",
    "    Args:\n",
    "        values(dict): The sudoku in dictionary form\n",
    "    \"\"\"\n",
    "    width = 1+max(len(values[s]) for s in boxes)\n",
    "    line = '+'.join(['-'*(width*3)]*3)\n",
    "    for r in rows:\n",
    "        print(''.join(values[r+c].center(width)+('|' if c in '36' else '')\n",
    "                      for c in cols))\n",
    "        if r in 'CF': print(line)\n",
    "    return\n",
    "\n",
    "# game state is input by string A1 A2 A3 ... A9 B1 ... B9 .. I9 \n",
    "grid = '..3.2.6..9..3.5..1..18.64....81.29..7.......8..67.82....26.95..8..2.3..9..5.1.3..'\n",
    "\n",
    "# game state in dict form\n",
    "grid_dict = grid_values(grid)\n",
    "\n",
    "# print game state\n",
    "display(grid_values_for_dot_display(grid))"
   ]
  },
  {
   "cell_type": "markdown",
   "metadata": {
    "deletable": true,
    "editable": true
   },
   "source": [
    "# Eliminate impossible game actions"
   ]
  },
  {
   "cell_type": "code",
   "execution_count": 14,
   "metadata": {
    "collapsed": false,
    "deletable": true,
    "editable": true
   },
   "outputs": [
    {
     "name": "stdout",
     "output_type": "stream",
     "text": [
      "   4     4578    3   |  149     2     147  |   6     5789    5   \n",
      "   9     2467   247  |   3      47     5   |   78     8      1   \n",
      "   25    257     1   |   8      79     6   |   4    23579   2357 \n",
      "---------------------+---------------------+---------------------\n",
      "  1345   1345    8   |         3456    2   |   9    134567 34567 \n",
      "   7    123459  249  |  1459   369     14  |   1    13456    8   \n",
      "  1345  13459    6   |   7     3459    8   |   2     1345   345  \n",
      "---------------------+---------------------+---------------------\n",
      "  1234  12347        |   6     478     9   |   5    12478   247  \n",
      "   8      16     47  |   2     457     3   |   17    467     9   \n",
      "   6    24679    5   |   4      1      47  |   3    24678   2467 \n"
     ]
    }
   ],
   "source": [
    "# flatten python list\n",
    "def ravel(nested_list):\n",
    "    \"\"\"Similar to np.ravel\n",
    "    Args:\n",
    "        nested_list(list)\n",
    "        \n",
    "    Returns:\n",
    "        flatten(list): flattened list\n",
    "    \"\"\"\n",
    "    if isinstance(nested_list,list):\n",
    "        flatten = []\n",
    "        for units_ in nested_list:\n",
    "            if isinstance(units_,list):\n",
    "                flatten.extend(units_)\n",
    "            else:\n",
    "                flatten.append(units_)    \n",
    "        if True in [isinstance(flatten[i], list) for i in range(len(flatten))]:\n",
    "            return ravel(flatten)\n",
    "        return flatten\n",
    "    return nested_list\n",
    "\n",
    "def eliminate(values):\n",
    "    \"\"\"Eliminate values from peers of each box with a single value.\n",
    "\n",
    "    Go through all the boxes, and whenever there is a box with a single value,\n",
    "    eliminate this value from the set of values of all its peers.\n",
    "\n",
    "    Args:\n",
    "        values: Sudoku in dictionary form.\n",
    "    Returns:\n",
    "        Resulting Sudoku in dictionary form after eliminating values recursively.\n",
    "    \"\"\"\n",
    "#     for current_box in boxes:\n",
    "#         current_box_len = len(values[current_box])\n",
    "#         if current_box_len>1:\n",
    "#             #boxes_to_scan = ravel([unit for unit in unitlist if current_box in unit])\n",
    "#             #boxes_to_scan = set(boxes_to_scan) - set([current_box])\n",
    "#             #boxes_to_scan = [b for b in boxes_to_scan if len(values[b])==1]\n",
    "#             boxes_to_scan = [b for b in peers[current_box] if len(values[b])==1]\n",
    "#             values_to_kill = [values[i] for i in boxes_to_scan]\n",
    "#             new_values = ''.join(sorted(set(values[current_box]) - set(values_to_kill)))\n",
    "# #             new_values = ''.join(set(values[current_box]) - set(values_to_kill))\n",
    "              \n",
    "#             # update Sudoku dict values if any current box values are eliminated\n",
    "#             if len(new_values)<current_box_len:\n",
    "#                 values[current_box] = new_values\n",
    "#                 return eliminate(values)\n",
    "#     return values\n",
    "\n",
    "    solved_values = [box for box in values.keys() if len(values[box]) == 1]\n",
    "    for box in solved_values:\n",
    "        digit = values[box]\n",
    "        for peer in peers[box]:\n",
    "            values[peer] = values[peer].replace(digit,'')\n",
    "    return values\n",
    "\n",
    "grid = '..3.2.6..9..3.5..1..18.64....81.29..7.......8..67.82....26.95..8..2.3..9..5.1.3..'\n",
    "\n",
    "temp = grid_values(grid)\n",
    "temp = eliminate(temp)\n",
    "display(temp)"
   ]
  },
  {
   "cell_type": "markdown",
   "metadata": {
    "collapsed": false,
    "deletable": true,
    "editable": true
   },
   "source": [
    "# Only Choice"
   ]
  },
  {
   "cell_type": "code",
   "execution_count": 15,
   "metadata": {
    "collapsed": false,
    "deletable": true,
    "editable": true
   },
   "outputs": [
    {
     "name": "stdout",
     "output_type": "stream",
     "text": [
      "123456789 123456789     3     |123456789     2     123456789 |    6     123456789 123456789 \n",
      "    9     123456789 123456789 |    3     123456789     5     |123456789 123456789     1     \n",
      "123456789 123456789     1     |    8     123456789     6     |    4     123456789 123456789 \n",
      "------------------------------+------------------------------+------------------------------\n",
      "123456789 123456789     8     |    1     123456789     2     |    9     123456789 123456789 \n",
      "    7     123456789 123456789 |123456789 123456789 123456789 |123456789 123456789     8     \n",
      "123456789 123456789     6     |    7     123456789     8     |    2     123456789 123456789 \n",
      "------------------------------+------------------------------+------------------------------\n",
      "123456789 123456789     2     |    6     123456789     9     |    5     123456789 123456789 \n",
      "    8     123456789 123456789 |    2     123456789     3     |123456789 123456789     9     \n",
      "123456789 123456789     5     |123456789     1     123456789 |    3     123456789 123456789 \n"
     ]
    }
   ],
   "source": [
    "def only_choice(values):\n",
    "    \"\"\"Finalize all values that are the only choice for a unit.\n",
    "\n",
    "    Go through all the units, and whenever there is a unit with a value\n",
    "    that only fits in one box, assign the value to this box.\n",
    "    \n",
    "    Args:\n",
    "        values: Sudoku in dictionary form.\n",
    "        \n",
    "    Returns:\n",
    "        Resulting Sudoku in dictionary form after applying only_choice recursively.\n",
    "    \"\"\"\n",
    "    \n",
    "    for unit in unitlist:\n",
    "        for choice in '123456789':\n",
    "            pos_for_a_choice = [box for box in unit if choice in values[box]]\n",
    "            if len(pos_for_a_choice) == 1 and len(values[pos_for_a_choice[0]]) != 1:\n",
    "                values[pos_for_a_choice[0]] = choice\n",
    "                return only_choice(values)\n",
    "    return values\n",
    "\n",
    "grid = '..3.2.6..9..3.5..1..18.64....81.29..7.......8..67.82....26.95..8..2.3..9..5.1.3..'\n",
    "\n",
    "temp = grid_values(grid)\n",
    "temp = only_choice(temp)\n",
    "display(temp)"
   ]
  },
  {
   "cell_type": "markdown",
   "metadata": {
    "deletable": true,
    "editable": true
   },
   "source": [
    "# Naked twins"
   ]
  },
  {
   "cell_type": "code",
   "execution_count": 16,
   "metadata": {
    "collapsed": false,
    "deletable": true,
    "editable": true
   },
   "outputs": [
    {
     "name": "stdout",
     "output_type": "stream",
     "text": [
      "    2     123456789 123456789 |123456789 123456789 123456789 |123456789 123456789 123456789 \n",
      "123456789 123456789 123456789 |123456789 123456789     6     |    2     123456789 123456789 \n",
      "123456789 123456789     1     |123456789 123456789 123456789 |123456789     7     123456789 \n",
      "------------------------------+------------------------------+------------------------------\n",
      "123456789 123456789     6     |123456789 123456789     8     |123456789 123456789 123456789 \n",
      "    3     123456789 123456789 |123456789     9     123456789 |123456789 123456789     7     \n",
      "123456789 123456789 123456789 |    6     123456789 123456789 |    4     123456789 123456789 \n",
      "------------------------------+------------------------------+------------------------------\n",
      "123456789     4     123456789 |123456789 123456789 123456789 |    8     123456789 123456789 \n",
      "123456789 123456789     5     |    2     123456789 123456789 |123456789 123456789 123456789 \n",
      "123456789 123456789 123456789 |123456789 123456789 123456789 |123456789 123456789     3     \n"
     ]
    }
   ],
   "source": [
    "def naked_twins(values):\n",
    "    \"\"\"Eliminate values using the naked twins strategy.\n",
    "    \n",
    "    Args:\n",
    "        values(dict): a dictionary of the form {'box_name': '123456789', ...}\n",
    "\n",
    "    Returns:\n",
    "        the values dictionary with the naked twins eliminated from peers.\n",
    "    \"\"\"\n",
    "    for unit in unitlist:\n",
    "        for choice in double_digits:\n",
    "            twins_position = [box for box in unit if choice == values[box]]\n",
    "            if len(twins_position) == 2:\n",
    "                boxes_to_eliminate = [box for box in unit if any(char in values[box] for char in choice) and box not in twins_position]\n",
    "                if len(boxes_to_eliminate)>0:\n",
    "                    for box in boxes_to_eliminate:\n",
    "                        values[box] = values[box].replace(choice[0],'').replace(choice[1],'')\n",
    "                    return naked_twins(values)\n",
    "    return values\n",
    "\n",
    "grid3 = '2.............62....1....7...6..8...3...9...7...6..4...4....8....52.............3'\n",
    "    \n",
    "temp = grid_values(grid3)\n",
    "temp = naked_twins(temp)\n",
    "\n",
    "display(temp)"
   ]
  },
  {
   "cell_type": "markdown",
   "metadata": {
    "deletable": true,
    "editable": true
   },
   "source": [
    "# DFS"
   ]
  },
  {
   "cell_type": "code",
   "execution_count": 17,
   "metadata": {
    "collapsed": false,
    "deletable": true,
    "editable": true
   },
   "outputs": [
    {
     "name": "stdout",
     "output_type": "stream",
     "text": [
      "No solution\n"
     ]
    }
   ],
   "source": [
    "def reduce_puzzle(values):\n",
    "    \"\"\"Iterate eliminate() and only_choice(). \n",
    "    \n",
    "    If at some point, there is a box with no available values, return False.\n",
    "    If the sudoku is solved, return the sudoku.\n",
    "    If after an iteration of both functions, the sudoku remains the same, return the sudoku.\n",
    "    \n",
    "    Args:\n",
    "        values: Sudoku in dictionary form.\n",
    "        \n",
    "    Returns:\n",
    "        case1: Return Sudoku in dictionary form after iterating eliminate and only_choice.\n",
    "        case2: Return False if no solution (No available choice for any one of the boxes).\n",
    "    \"\"\"\n",
    "    stalled = False\n",
    "    while not stalled:\n",
    "        solved_values_before = len([box for box in values.keys() if len(values[box]) == 1])\n",
    "        values = eliminate(values)\n",
    "        values = only_choice(values)\n",
    "        values = naked_twins(values)\n",
    "        solved_values_after = len([box for box in values.keys() if len(values[box]) == 1])\n",
    "        \n",
    "        # stalled = true if no progress is made. Then values are returned.\n",
    "        stalled = solved_values_before == solved_values_after\n",
    "        \n",
    "        # Sanity check, return False if there is a box with zero available values:\n",
    "        if len([box for box in values.keys() if len(values[box]) == 0]):\n",
    "            return False\n",
    "    return values\n",
    "\n",
    "def search(values):\n",
    "    \"\"\"Using depth-first search and propagation, create a search tree and solve the sudoku.\n",
    "    \n",
    "    Use reduce_puzzle to apply constraint prop first. If no progress, DFS is applied\n",
    "    \n",
    "    Args:\n",
    "        values: Sudoku in dictionary form.\n",
    "        \n",
    "    Returns:\n",
    "        case1: Return solved Sudoku dict if solvable.\n",
    "        case2: Return False if no solution exists.\n",
    "    \"\"\"\n",
    "    # Reduce the puzzle first\n",
    "    values = reduce_puzzle(values)\n",
    "    if values is False:\n",
    "        return False ## Failed earlier. No solution for the given puzzle\n",
    "    if all(len(values[s]) == 1 for s in boxes):\n",
    "        return values ## Solved!\n",
    "    \n",
    "    # For any irreduciable puzzle, choose one least entropic unfilled squares to do DFS\n",
    "    n,box = min((len(values[box]), box) for box in boxes if len(values[box]) > 1)\n",
    "    for value in values[box]:\n",
    "        new_sudoku = values.copy() ## use copy for not corrupting the true game state\n",
    "        new_sudoku[box] = value\n",
    "        attempt = search(new_sudoku)\n",
    "        if attempt:\n",
    "            return attempt\n",
    "        \n",
    "grid2 = '4.....8.5.3..........7......2.....6.....8.4......1.......6.3.7.5..2.....1.4......'\n",
    "   \n",
    "temp = grid_values(grid2)\n",
    "temp = search(temp)\n",
    "if temp:\n",
    "    display(temp)\n",
    "else:\n",
    "    print('No solution')"
   ]
  },
  {
   "cell_type": "code",
   "execution_count": 18,
   "metadata": {
    "collapsed": false,
    "deletable": true,
    "editable": true
   },
   "outputs": [
    {
     "name": "stdout",
     "output_type": "stream",
     "text": [
      "9 6 1 |3 5 4 |2 8 7 \n",
      "8 3 5 |2 7 6 |1 4 9 \n",
      "2 7 4 |8 9 1 |3 6 5 \n",
      "------+------+------\n",
      "4 2 7 |1 3 8 |9 5 6 \n",
      "5 8 3 |9 6 2 |7 1 4 \n",
      "6 1 9 |5 4 7 |8 3 2 \n",
      "------+------+------\n",
      "3 4 2 |6 8 9 |5 7 1 \n",
      "7 9 8 |4 1 5 |6 2 3 \n",
      "1 5 6 |7 2 3 |4 9 8 \n",
      "\n"
     ]
    }
   ],
   "source": [
    "def solve(grid):\n",
    "    \"\"\"\n",
    "    Find the solution to a Sudoku grid.\n",
    "    Args:\n",
    "        grid(string): a string representing a sudoku grid.\n",
    "            Example: '2.............62....1....7...6..8...3...9...7...6..4...4....8....52.............3'\n",
    "    Returns:\n",
    "        The dictionary representation of the final sudoku grid. False if no solution exists.\n",
    "    \"\"\"\n",
    "    return search(grid_values(grid))\n",
    "\n",
    "\n",
    "grid4 = '9.1....8.8.5.7..4.2.4....6...7......5..............83.3..6......9................'\n",
    "grid5 = '2.............62....1....7...6..8...3...9...7...6..4...4....8....52.............3'\n",
    "\n",
    "try:\n",
    "    display(solve(grid4))\n",
    "except:\n",
    "    print('No solution')\n",
    "print()\n"
   ]
  },
  {
   "cell_type": "code",
   "execution_count": null,
   "metadata": {
    "collapsed": false,
    "deletable": true,
    "editable": true
   },
   "outputs": [],
   "source": [
    "solved_diag_sudoku = {'G7': '8', 'G6': '9', 'G5': '7', 'G4': '3', 'G3': '2', 'G2': '4', 'G1': '6', 'G9': '5',\n",
    "                          'G8': '1', 'C9': '6', 'C8': '7', 'C3': '1', 'C2': '9', 'C1': '4', 'C7': '5', 'C6': '3',\n",
    "                          'C5': '2', 'C4': '8', 'E5': '9', 'E4': '1', 'F1': '1', 'F2': '2', 'F3': '9', 'F4': '6',\n",
    "                          'F5': '5', 'F6': '7', 'F7': '4', 'F8': '3', 'F9': '8', 'B4': '7', 'B5': '1', 'B6': '6',\n",
    "                          'B7': '2', 'B1': '8', 'B2': '5', 'B3': '3', 'B8': '4', 'B9': '9', 'I9': '3', 'I8': '2',\n",
    "                          'I1': '7', 'I3': '8', 'I2': '1', 'I5': '6', 'I4': '5', 'I7': '9', 'I6': '4', 'A1': '2',\n",
    "                          'A3': '7', 'A2': '6', 'E9': '7', 'A4': '9', 'A7': '3', 'A6': '5', 'A9': '1', 'A8': '8',\n",
    "                          'E7': '6', 'E6': '2', 'E1': '3', 'E3': '4', 'E2': '8', 'E8': '5', 'A5': '4', 'H8': '6',\n",
    "                          'H9': '4', 'H2': '3', 'H3': '5', 'H1': '9', 'H6': '1', 'H7': '7', 'H4': '2', 'H5': '8',\n",
    "                          'D8': '9', 'D9': '2', 'D6': '8', 'D7': '1', 'D4': '4', 'D5': '3', 'D2': '7', 'D3': '6',\n",
    "                          'D1': '5'}\n",
    "\n",
    "display(solved_diag_sudoku)"
   ]
  },
  {
   "cell_type": "code",
   "execution_count": null,
   "metadata": {
    "collapsed": false,
    "deletable": true,
    "editable": true
   },
   "outputs": [],
   "source": [
    "    \n",
    "before_naked_twins_1 = {'I6': '4', 'H9': '3', 'I2': '6', 'E8': '1', 'H3': '5', 'H7': '8', 'I7': '1', 'I4': '8',\n",
    "                            'H5': '6', 'F9': '7', 'G7': '6', 'G6': '3', 'G5': '2', 'E1': '8', 'G3': '1', 'G2': '8',\n",
    "                            'G1': '7', 'I1': '23', 'C8': '5', 'I3': '23', 'E5': '347', 'I5': '5', 'C9': '1', 'G9': '5',\n",
    "                            'G8': '4', 'A1': '1', 'A3': '4', 'A2': '237', 'A5': '9', 'A4': '2357', 'A7': '27',\n",
    "                            'A6': '257', 'C3': '8', 'C2': '237', 'C1': '23', 'E6': '579', 'C7': '9', 'C6': '6',\n",
    "                            'C5': '37', 'C4': '4', 'I9': '9', 'D8': '8', 'I8': '7', 'E4': '6', 'D9': '6', 'H8': '2',\n",
    "                            'F6': '125', 'A9': '8', 'G4': '9', 'A8': '6', 'E7': '345', 'E3': '379', 'F1': '6',\n",
    "                            'F2': '4', 'F3': '23', 'F4': '1235', 'F5': '8', 'E2': '37', 'F7': '35', 'F8': '9',\n",
    "                            'D2': '1', 'H1': '4', 'H6': '17', 'H2': '9', 'H4': '17', 'D3': '2379', 'B4': '27',\n",
    "                            'B5': '1', 'B6': '8', 'B7': '27', 'E9': '2', 'B1': '9', 'B2': '5', 'B3': '6', 'D6': '279',\n",
    "                            'D7': '34', 'D4': '237', 'D5': '347', 'B8': '3', 'B9': '4', 'D1': '5'}\n",
    "\n",
    "display(before_naked_twins_1)\n",
    "\n",
    "print()\n",
    "print()\n",
    "\n",
    "possible_solutions_1 = [\n",
    "        {'G7': '6', 'G6': '3', 'G5': '2', 'G4': '9', 'G3': '1', 'G2': '8', 'G1': '7', 'G9': '5', 'G8': '4', 'C9': '1',\n",
    "         'C8': '5', 'C3': '8', 'C2': '237', 'C1': '23', 'C7': '9', 'C6': '6', 'C5': '37', 'A4': '2357', 'A9': '8',\n",
    "         'A8': '6', 'F1': '6', 'F2': '4', 'F3': '23', 'F4': '1235', 'F5': '8', 'F6': '125', 'F7': '35', 'F8': '9',\n",
    "         'F9': '7', 'B4': '27', 'B5': '1', 'B6': '8', 'B7': '27', 'E9': '2', 'B1': '9', 'B2': '5', 'B3': '6', 'C4': '4',\n",
    "         'B8': '3', 'B9': '4', 'I9': '9', 'I8': '7', 'I1': '23', 'I3': '23', 'I2': '6', 'I5': '5', 'I4': '8', 'I7': '1',\n",
    "         'I6': '4', 'A1': '1', 'A3': '4', 'A2': '237', 'A5': '9', 'E8': '1', 'A7': '27', 'A6': '257', 'E5': '347',\n",
    "         'E4': '6', 'E7': '345', 'E6': '579', 'E1': '8', 'E3': '79', 'E2': '37', 'H8': '2', 'H9': '3', 'H2': '9',\n",
    "         'H3': '5', 'H1': '4', 'H6': '17', 'H7': '8', 'H4': '17', 'H5': '6', 'D8': '8', 'D9': '6', 'D6': '279',\n",
    "         'D7': '34', 'D4': '237', 'D5': '347', 'D2': '1', 'D3': '79', 'D1': '5'},\n",
    "        {'I6': '4', 'H9': '3', 'I2': '6', 'E8': '1', 'H3': '5', 'H7': '8', 'I7': '1', 'I4': '8', 'H5': '6', 'F9': '7',\n",
    "         'G7': '6', 'G6': '3', 'G5': '2', 'E1': '8', 'G3': '1', 'G2': '8', 'G1': '7', 'I1': '23', 'C8': '5', 'I3': '23',\n",
    "         'E5': '347', 'I5': '5', 'C9': '1', 'G9': '5', 'G8': '4', 'A1': '1', 'A3': '4', 'A2': '237', 'A5': '9',\n",
    "         'A4': '2357', 'A7': '27', 'A6': '257', 'C3': '8', 'C2': '237', 'C1': '23', 'E6': '579', 'C7': '9', 'C6': '6',\n",
    "         'C5': '37', 'C4': '4', 'I9': '9', 'D8': '8', 'I8': '7', 'E4': '6', 'D9': '6', 'H8': '2', 'F6': '125',\n",
    "         'A9': '8', 'G4': '9', 'A8': '6', 'E7': '345', 'E3': '79', 'F1': '6', 'F2': '4', 'F3': '23', 'F4': '1235',\n",
    "         'F5': '8', 'E2': '3', 'F7': '35', 'F8': '9', 'D2': '1', 'H1': '4', 'H6': '17', 'H2': '9', 'H4': '17',\n",
    "         'D3': '79', 'B4': '27', 'B5': '1', 'B6': '8', 'B7': '27', 'E9': '2', 'B1': '9', 'B2': '5', 'B3': '6',\n",
    "         'D6': '279', 'D7': '34', 'D4': '237', 'D5': '347', 'B8': '3', 'B9': '4', 'D1': '5'}\n",
    "        ]\n",
    "\n",
    "\n",
    "temp = naked_twins(before_naked_twins_1)\n",
    "display(temp)\n",
    "\n",
    "\n"
   ]
  },
  {
   "cell_type": "code",
   "execution_count": null,
   "metadata": {
    "collapsed": false,
    "deletable": true,
    "editable": true
   },
   "outputs": [],
   "source": [
    "\n",
    "for i in possible_solutions_1:\n",
    "    display(i)\n",
    "    print()"
   ]
  },
  {
   "cell_type": "code",
   "execution_count": 19,
   "metadata": {
    "collapsed": false
   },
   "outputs": [
    {
     "data": {
      "text/plain": [
       "[['A1', 'B2', 'C3', 'D4', 'E5', 'F6', 'G7', 'H8', 'I9'],\n",
       " ['A9', 'B8', 'C7', 'D6', 'E5', 'F4', 'G3', 'H2', 'I1']]"
      ]
     },
     "execution_count": 19,
     "metadata": {},
     "output_type": "execute_result"
    }
   ],
   "source": [
    "diag_units"
   ]
  },
  {
   "cell_type": "code",
   "execution_count": null,
   "metadata": {
    "collapsed": true
   },
   "outputs": [],
   "source": []
  }
 ],
 "metadata": {
  "kernelspec": {
   "display_name": "Python 3",
   "language": "python",
   "name": "python3"
  },
  "language_info": {
   "codemirror_mode": {
    "name": "ipython",
    "version": 3
   },
   "file_extension": ".py",
   "mimetype": "text/x-python",
   "name": "python",
   "nbconvert_exporter": "python",
   "pygments_lexer": "ipython3",
   "version": "3.6.0"
  }
 },
 "nbformat": 4,
 "nbformat_minor": 2
}
